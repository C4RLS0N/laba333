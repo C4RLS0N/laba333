{
  "nbformat": 4,
  "nbformat_minor": 0,
  "metadata": {
    "colab": {
      "provenance": []
    },
    "kernelspec": {
      "name": "python3",
      "display_name": "Python 3"
    },
    "language_info": {
      "name": "python"
    }
  },
  "cells": [
    {
      "cell_type": "code",
      "execution_count": null,
      "metadata": {
        "id": "199DYCEt9ssG"
      },
      "outputs": [],
      "source": [
        "import tensorflow as tf\n",
        "from tensorflow import keras\n",
        "from tensorflow.keras import layers\n",
        "from tensorflow.keras.datasets import cifar10\n",
        "import matplotlib.pyplot as plt \n",
        "%matplotlib inline"
      ]
    },
    {
      "cell_type": "markdown",
      "source": [
        "Загрузка датасета"
      ],
      "metadata": {
        "id": "F5NW2I1ENJSP"
      }
    },
    {
      "cell_type": "code",
      "source": [
        "(x_train, y_train), (x_test, y_test) = cifar10.load_data()"
      ],
      "metadata": {
        "id": "vb8y31vLAuf2"
      },
      "execution_count": null,
      "outputs": []
    },
    {
      "cell_type": "markdown",
      "source": [
        "Предобработка данных"
      ],
      "metadata": {
        "id": "_4Ew7SogNSO0"
      }
    },
    {
      "cell_type": "code",
      "source": [
        "x_train = x_train.astype(\"float32\") / 255.0\n",
        "x_test = x_test.astype(\"float32\") / 255.0"
      ],
      "metadata": {
        "id": "ypSmRh3QA0Rk"
      },
      "execution_count": null,
      "outputs": []
    },
    {
      "cell_type": "code",
      "source": [
        "classes=['самолет', 'автомобиль', 'птица', 'кот', 'олень', 'собака', 'лягушка', 'лошадь', 'корабль', 'грузовик']"
      ],
      "metadata": {
        "id": "2EXAYTzZDXla"
      },
      "execution_count": null,
      "outputs": []
    },
    {
      "cell_type": "markdown",
      "source": [
        "Просмотр примера"
      ],
      "metadata": {
        "id": "SftLrAE3NNKM"
      }
    },
    {
      "cell_type": "code",
      "source": [
        "n = 9588\n",
        "plt.imshow(x_train[n])\n",
        "plt.show()\n",
        "print(\"Номер класса:\", y_train[n])\n",
        "print(\"Тип объекта:\", classes[y_train[n][0]])"
      ],
      "metadata": {
        "colab": {
          "base_uri": "https://localhost:8080/",
          "height": 465
        },
        "id": "_7CGV8uQCRRM",
        "outputId": "186f8d04-e2e9-49d4-884f-fed3cee31c25"
      },
      "execution_count": null,
      "outputs": [
        {
          "output_type": "display_data",
          "data": {
            "text/plain": [
              "<Figure size 640x480 with 1 Axes>"
            ],
            "image/png": "[encoded data removed]"
          },
          "metadata": {}
        },
        {
          "output_type": "stream",
          "name": "stdout",
          "text": [
            "Номер класса: [2]\n",
            "Тип объекта: птица\n"
          ]
        }
      ]
    },
    {
      "cell_type": "markdown",
      "source": [
        "Определение модели"
      ],
      "metadata": {
        "id": "ELUVJswDNWFw"
      }
    },
    {
      "cell_type": "code",
      "source": [
        "model = keras.Sequential(\n",
        "[\n",
        "layers.Input(shape=(32, 32, 3)),\n",
        "layers.Conv2D(32, 3, activation=\"relu\"),\n",
        "layers.MaxPooling2D(pool_size=(2, 2)),\n",
        "layers.Conv2D(64, 3, activation=\"relu\"),\n",
        "layers.MaxPooling2D(pool_size=(2, 2)),\n",
        "layers.Conv2D(128, 3, activation=\"relu\"),\n",
        "layers.Flatten(),\n",
        "layers.Dense(64, activation=\"relu\"),\n",
        "layers.Dense(10),\n",
        "]\n",
        ")"
      ],
      "metadata": {
        "id": "MiKmaGd4A6Dk"
      },
      "execution_count": null,
      "outputs": []
    },
    {
      "cell_type": "markdown",
      "source": [
        "Компиляция модели"
      ],
      "metadata": {
        "id": "GC-LMdoSNYVb"
      }
    },
    {
      "cell_type": "code",
      "source": [
        "model.compile(\n",
        "loss=tf.keras.losses.SparseCategoricalCrossentropy(from_logits=True),\n",
        "optimizer=tf.keras.optimizers.Adam(lr=0.001),\n",
        "metrics=[\"accuracy\"],\n",
        ")"
      ],
      "metadata": {
        "colab": {
          "base_uri": "https://localhost:8080/"
        },
        "id": "VpWzTGk2A8Yv",
        "outputId": "da198897-161a-4882-9909-2cdc04d38d93"
      },
      "execution_count": null,
      "outputs": [
        {
          "output_type": "stream",
          "name": "stderr",
          "text": [
            "WARNING:absl:`lr` is deprecated in Keras optimizer, please use `learning_rate` or use the legacy optimizer, e.g.,tf.keras.optimizers.legacy.Adam.\n"
          ]
        }
      ]
    },
    {
      "cell_type": "markdown",
      "source": [
        "Обучение модели"
      ],
      "metadata": {
        "id": "yNivR1jRNbrf"
      }
    },
    {
      "cell_type": "code",
      "source": [
        "model.fit(x_train, y_train, epochs=20, batch_size=64, verbose=2)"
      ],
      "metadata": {
        "colab": {
          "base_uri": "https://localhost:8080/"
        },
        "id": "3dnkUl9vEMfU",
        "outputId": "4ce13a6f-4451-4736-c130-c8094e71f565"
      },
      "execution_count": null,
      "outputs": [
        {
          "output_type": "stream",
          "name": "stdout",
          "text": [
            "Epoch 1/20\n",
            "782/782 - 71s - loss: 2.0577 - accuracy: 0.3971 - 71s/epoch - 91ms/step\n",
            "Epoch 2/20\n",
            "782/782 - 72s - loss: 1.2933 - accuracy: 0.5417 - 72s/epoch - 92ms/step\n",
            "Epoch 3/20\n",
            "782/782 - 70s - loss: 1.1383 - accuracy: 0.6011 - 70s/epoch - 89ms/step\n",
            "Epoch 4/20\n",
            "782/782 - 70s - loss: 1.0246 - accuracy: 0.6433 - 70s/epoch - 89ms/step\n",
            "Epoch 5/20\n",
            "782/782 - 70s - loss: 0.9455 - accuracy: 0.6710 - 70s/epoch - 90ms/step\n",
            "Epoch 6/20\n",
            "782/782 - 69s - loss: 0.8720 - accuracy: 0.6956 - 69s/epoch - 88ms/step\n",
            "Epoch 7/20\n",
            "782/782 - 70s - loss: 0.8073 - accuracy: 0.7190 - 70s/epoch - 90ms/step\n",
            "Epoch 8/20\n",
            "782/782 - 69s - loss: 0.7354 - accuracy: 0.7433 - 69s/epoch - 88ms/step\n",
            "Epoch 9/20\n",
            "782/782 - 69s - loss: 0.6899 - accuracy: 0.7578 - 69s/epoch - 88ms/step\n",
            "Epoch 10/20\n",
            "782/782 - 70s - loss: 0.6248 - accuracy: 0.7824 - 70s/epoch - 90ms/step\n",
            "Epoch 11/20\n",
            "782/782 - 69s - loss: 0.5876 - accuracy: 0.7950 - 69s/epoch - 88ms/step\n",
            "Epoch 12/20\n",
            "782/782 - 69s - loss: 0.5242 - accuracy: 0.8173 - 69s/epoch - 88ms/step\n",
            "Epoch 13/20\n",
            "782/782 - 70s - loss: 0.4899 - accuracy: 0.8298 - 70s/epoch - 90ms/step\n",
            "Epoch 14/20\n",
            "782/782 - 69s - loss: 0.4558 - accuracy: 0.8402 - 69s/epoch - 88ms/step\n",
            "Epoch 15/20\n",
            "782/782 - 69s - loss: 0.4266 - accuracy: 0.8525 - 69s/epoch - 89ms/step\n",
            "Epoch 16/20\n",
            "782/782 - 71s - loss: 0.3812 - accuracy: 0.8654 - 71s/epoch - 90ms/step\n",
            "Epoch 17/20\n",
            "782/782 - 69s - loss: 0.3680 - accuracy: 0.8719 - 69s/epoch - 88ms/step\n",
            "Epoch 18/20\n",
            "782/782 - 69s - loss: 0.3359 - accuracy: 0.8831 - 69s/epoch - 88ms/step\n",
            "Epoch 19/20\n",
            "782/782 - 70s - loss: 0.3075 - accuracy: 0.8930 - 70s/epoch - 90ms/step\n",
            "Epoch 20/20\n",
            "782/782 - 69s - loss: 0.2960 - accuracy: 0.8977 - 69s/epoch - 88ms/step\n"
          ]
        },
        {
          "output_type": "execute_result",
          "data": {
            "text/plain": [
              "<keras.callbacks.History at 0x7f27cbc93f10>"
            ]
          },
          "metadata": {},
          "execution_count": 21
        }
      ]
    },
    {
      "cell_type": "markdown",
      "source": [
        "Тестирование модели"
      ],
      "metadata": {
        "id": "FHRSXEuRKjwB"
      }
    },
    {
      "cell_type": "code",
      "source": [
        "scores = model.evaluate(x_test, y_test, batch_size=64, verbose=2)\n",
        "print(\"Доля верных ответов на тестовых данных: %.2f%%\" % (scores[1]*100))"
      ],
      "metadata": {
        "colab": {
          "base_uri": "https://localhost:8080/"
        },
        "id": "TNJVg2PbK3Gi",
        "outputId": "e59d6038-01bc-4c43-b738-435fab6ee051"
      },
      "execution_count": null,
      "outputs": [
        {
          "output_type": "stream",
          "name": "stdout",
          "text": [
            "157/157 - 5s - loss: 1.6624 - accuracy: 0.6598 - 5s/epoch - 32ms/step\n",
            "Доля верных ответов на тестовых данных: 65.98%\n"
          ]
        }
      ]
    },
    {
      "cell_type": "markdown",
      "source": [
        "Просмотр изображения для тестирования"
      ],
      "metadata": {
        "id": "aQDQ64YIMF_9"
      }
    },
    {
      "cell_type": "code",
      "source": [
        "index=122\n",
        "plt.imshow(x_test[index])\n",
        "plt.show()"
      ],
      "metadata": {
        "colab": {
          "base_uri": "https://localhost:8080/",
          "height": 430
        },
        "id": "R2SmwrBMMGtz",
        "outputId": "5a073f25-f655-40bd-b797-9fc37909d042"
      },
      "execution_count": null,
      "outputs": [
        {
          "output_type": "display_data",
          "data": {
            "text/plain": [
              "<Figure size 640x480 with 1 Axes>"
            ],
            "image/png": "[encoded data removed]"
          },
          "metadata": {}
        }
      ]
    },
    {
      "cell_type": "markdown",
      "source": [
        "Преобразование изображения"
      ],
      "metadata": {
        "id": "jrrfMayPMLiQ"
      }
    },
    {
      "cell_type": "code",
      "source": [
        "import numpy as np\n",
        "\n",
        "x = x_test[index]\n",
        "x = np.expand_dims(x, axis=0)"
      ],
      "metadata": {
        "id": "zIAih_4iMMHF"
      },
      "execution_count": null,
      "outputs": []
    },
    {
      "cell_type": "markdown",
      "source": [
        "Распознавание"
      ],
      "metadata": {
        "id": "JfaEFKhvMPZo"
      }
    },
    {
      "cell_type": "code",
      "source": [
        "prediction = model.predict(x)"
      ],
      "metadata": {
        "colab": {
          "base_uri": "https://localhost:8080/"
        },
        "id": "BHDZhZWmMPux",
        "outputId": "d05126b9-7e10-4513-cc6a-66f927bf105d"
      },
      "execution_count": null,
      "outputs": [
        {
          "output_type": "stream",
          "name": "stdout",
          "text": [
            "1/1 [==============================] - 0s 121ms/step\n"
          ]
        }
      ]
    },
    {
      "cell_type": "markdown",
      "source": [
        "Результаты"
      ],
      "metadata": {
        "id": "Ec9StCxNMRac"
      }
    },
    {
      "cell_type": "code",
      "source": [
        "print(prediction)\n",
        "prediction = np.argmax(prediction)\n",
        "print(classes[prediction])"
      ],
      "metadata": {
        "colab": {
          "base_uri": "https://localhost:8080/"
        },
        "id": "fyFdtNkHMS4r",
        "outputId": "8f593ea1-44c7-4f22-fc95-43cd72e579f7"
      },
      "execution_count": null,
      "outputs": [
        {
          "output_type": "stream",
          "name": "stdout",
          "text": [
            "[[ 6.13558   12.8667     2.4938493  3.9776921  5.3950872  0.3334075\n",
            "   5.3008947  3.9773984  5.890193   8.261513 ]]\n",
            "автомобиль\n"
          ]
        }
      ]
    }
  ]
}